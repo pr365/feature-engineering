{
 "cells": [
  {
   "cell_type": "code",
   "execution_count": null,
   "metadata": {},
   "outputs": [],
   "source": [
    "cat_var=dfName.select_dtypes(include=['object']).columns.tolist()\n",
    "\n",
    "num_var=dfName.select_dtypes(exclude=['object']).columns.tolist()"
   ]
  },
  {
   "cell_type": "code",
   "execution_count": null,
   "metadata": {},
   "outputs": [],
   "source": [
    "if [col for col in df.columns if len(df[col].unique()) <=5]:\n",
    "     cat_var = [col for col in df.columns if len(df[col].unique()) <=5]  \n",
    "elif [col for col in df.columns if len(df[col].unique()) > 5]:\n",
    "     num_var = [col for col in df.columns if len(df[col].unique()) > 5]"
   ]
  }
 ],
 "metadata": {
  "kernelspec": {
   "display_name": "Python 3",
   "language": "python",
   "name": "python3"
  },
  "language_info": {
   "codemirror_mode": {
    "name": "ipython",
    "version": 3
   },
   "file_extension": ".py",
   "mimetype": "text/x-python",
   "name": "python",
   "nbconvert_exporter": "python",
   "pygments_lexer": "ipython3",
   "version": "3.8.5"
  }
 },
 "nbformat": 4,
 "nbformat_minor": 4
}
